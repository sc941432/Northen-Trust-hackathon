{
 "cells": [
  {
   "cell_type": "code",
   "execution_count": null,
   "id": "8d2a5771-4474-49a5-bc53-d321beecf1e6",
   "metadata": {},
   "outputs": [],
   "source": [
    "import os\n",
    "import shutil\n",
    "\n",
    "# Function to move .tsv files to a new folder (typically where .csv files are stored)\n",
    "def collect_tsv_files(source_folder, destination_folder):\n",
    "    # Ensure the destination folder exists\n",
    "    if not os.path.exists(destination_folder):\n",
    "        os.makedirs(destination_folder)\n",
    "        print(f\"Created folder: {destination_folder}\")\n",
    "    \n",
    "    # Loop through all files in the source folder\n",
    "    for filename in os.listdir(source_folder):\n",
    "        if filename.endswith('.tsv'):  # Check if the file has a .tsv extension\n",
    "            source_path = os.path.join(source_folder, filename)\n",
    "            destination_path = os.path.join(destination_folder, filename)\n",
    "\n",
    "            # Move the file to the destination folder\n",
    "            shutil.move(source_path, destination_path)\n",
    "            print(f\"Moved: {filename} to {destination_folder}\")\n",
    "\n",
    "# Define the source folder and the destination folder\n",
    "source_folder = 'path_to_source_folder'  # Folder where the .tsv files are currently located\n",
    "destination_folder = 'path_to_destination_folder'  # Folder to move .tsv files to (same as where .csv files are stored)\n",
    "\n",
    "# Run the function to collect .tsv files\n",
    "collect_tsv_files(source_folder, destination_folder)"
   ]
  }
 ],
 "metadata": {
  "kernelspec": {
   "display_name": "Python 3 (ipykernel)",
   "language": "python",
   "name": "python3"
  },
  "language_info": {
   "codemirror_mode": {
    "name": "ipython",
    "version": 3
   },
   "file_extension": ".py",
   "mimetype": "text/x-python",
   "name": "python",
   "nbconvert_exporter": "python",
   "pygments_lexer": "ipython3",
   "version": "3.11.5"
  }
 },
 "nbformat": 4,
 "nbformat_minor": 5
}
